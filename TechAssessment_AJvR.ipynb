{
 "cells": [
  {
   "cell_type": "markdown",
   "metadata": {},
   "source": [
    "## Lightfoot Tech assessment. \n",
    "\n",
    "Data exploration is described in this Notebook to show my working. \n",
    "The final data cleaning, processing, and creation of the SQL database was run using the python scripts (src/main.py)\n",
    "\n",
    "##### Step 1: \n",
    "Explore the data provided in python"
   ]
  },
  {
   "cell_type": "code",
   "execution_count": 203,
   "metadata": {},
   "outputs": [
    {
     "name": "stdout",
     "output_type": "stream",
     "text": [
      "['/Users/alexjvr/Dropbox/Tech_Assessment/lf_tech_test_purchase_data.csv', '/Users/alexjvr/Dropbox/Tech_Assessment/lf_tech_test_vehicle_data.csv']\n",
      "<class 'pandas.core.frame.DataFrame'>\n",
      "RangeIndex: 978 entries, 0 to 977\n",
      "Data columns (total 19 columns):\n",
      " #   Column          Non-Null Count  Dtype  \n",
      "---  ------          --------------  -----  \n",
      " 0   vehicle_id      978 non-null    int64  \n",
      " 1   name            978 non-null    object \n",
      " 2   description     922 non-null    object \n",
      " 3   make            978 non-null    object \n",
      " 4   model           978 non-null    object \n",
      " 5   type            978 non-null    object \n",
      " 6   year            978 non-null    int64  \n",
      " 7   price           978 non-null    float64\n",
      " 8   engine          976 non-null    object \n",
      " 9   cylinders       876 non-null    float64\n",
      " 10  fuel            971 non-null    object \n",
      " 11  mileage         944 non-null    float64\n",
      " 12  transmission    976 non-null    object \n",
      " 13  trim            977 non-null    object \n",
      " 14  body            975 non-null    object \n",
      " 15  doors           971 non-null    float64\n",
      " 16  exterior_color  973 non-null    object \n",
      " 17  interior_color  941 non-null    object \n",
      " 18  drivetrain      978 non-null    object \n",
      "dtypes: float64(4), int64(2), object(13)\n",
      "memory usage: 145.3+ KB\n",
      "<class 'pandas.core.frame.DataFrame'>\n",
      "RangeIndex: 2000000 entries, 0 to 1999999\n",
      "Data columns (total 9 columns):\n",
      " #   Column             Dtype  \n",
      "---  ------             -----  \n",
      " 0   customer_id        int64  \n",
      " 1   customer_uuid      object \n",
      " 2   purchase_date      object \n",
      " 3   rrp_discount       float64\n",
      " 4   vehicle_id         int64  \n",
      " 5   city               object \n",
      " 6   lat                float64\n",
      " 7   lng                float64\n",
      " 8   approx_population  int64  \n",
      "dtypes: float64(3), int64(3), object(3)\n",
      "memory usage: 137.3+ MB\n"
     ]
    }
   ],
   "source": [
    "import pandas as pd \n",
    "import numpy as np\n",
    "import glob\n",
    "\n",
    "#What files do we have? \n",
    "path = \"/Users/alexjvr/Dropbox/Tech_Assessment\"\n",
    "all_files = glob.glob(path + \"/*.csv\")\n",
    "print(all_files)\n",
    "\n",
    "\n",
    "#Read vehicle data\n",
    "vehicle_df = pd.read_csv(all_files[1], na_values=(np.NaN))\n",
    "vehicle_df.info()\n",
    "\n",
    "#Read purchase data\n",
    "purchase_df = pd.read_csv(all_files[0], na_values=(np.NaN))\n",
    "purchase_df.info()\n"
   ]
  },
  {
   "cell_type": "markdown",
   "metadata": {},
   "source": [
    "Dataframes have vehicle_id column in common, so I can create an SQL database. \n",
    "This will also make future queries easier. \n",
    "Clean the data first. "
   ]
  },
  {
   "cell_type": "markdown",
   "metadata": {},
   "source": [
    "##### Step 2a: \n",
    "\n",
    "Clean vehicle data"
   ]
  },
  {
   "cell_type": "code",
   "execution_count": 208,
   "metadata": {},
   "outputs": [
    {
     "name": "stderr",
     "output_type": "stream",
     "text": [
      "/var/folders/d1/2957hj5928x_7dc6xjx_2rx40000gq/T/ipykernel_10875/2358857759.py:22: FutureWarning: A value is trying to be set on a copy of a DataFrame or Series through chained assignment using an inplace method.\n",
      "The behavior will change in pandas 3.0. This inplace method will never work because the intermediate object on which we are setting values always behaves as a copy.\n",
      "\n",
      "For example, when doing 'df[col].method(value, inplace=True)', try using 'df.method({col: value}, inplace=True)' or df[col] = df[col].method(value) instead, to perform the operation inplace on the original object.\n",
      "\n",
      "\n",
      "  vehicle_df[\"engine\"].replace('.*VIN*', np.NaN, regex=True, inplace=True)\n"
     ]
    }
   ],
   "source": [
    "import datetime as dt\n",
    "\n",
    "\n",
    "# Look for missing data. Obvious text errors. And numerical columns that are in incorrect format, \n",
    "# unexpected ranges for numbers, and outlier values. \n",
    "# Expected dataset has 978 rows\n",
    "vehicle_df.head()\n",
    "vehicle_df.tail()\n",
    "\n",
    "\n",
    "vehicle_df.describe(include='all')\n",
    "\n",
    "# Anything obviously wrong with entries with missing data?\n",
    "vehicle_df[vehicle_df.isnull().any(axis=1)]\n",
    "\n",
    "# Anything particularly strange about entries with multiple Nan values? \n",
    "vehicle_df.loc[vehicle_df.isnull().sum(1)>1]\n",
    "\n",
    "# Several of these entries have [engine:'c']. There are variations of this engine type \n",
    "# (\"c Motor\", and \"c ZEV\"), so I will leave this in for now, but it needs to be checked. \n",
    "# Replace erroneous engine types \"<dt>VIN</dt>\\\"* with Nan\n",
    "vehicle_df[\"engine\"].replace('.*VIN*', np.NaN, regex=True, inplace=True)\n",
    "\n",
    "\n",
    "#Cars cannot have 0 cylinders, so mark as missing data\n",
    "vehicle_df[\"cylinders\"] = np.where(vehicle_df[\"cylinders\"]<1, np.NaN, vehicle_df[\"cylinders\"])\n",
    "\n",
    "\n",
    "#cars with 0 mileage? I'm not sure if cars can have 0 mileage. This will need to be checked with someone. \n",
    "vehicle_df[vehicle_df.mileage < 10]\n",
    "#car with >100 mileage? All looks within the range of possibility\n",
    "vehicle_df[vehicle_df.mileage > 100]\n",
    "\n",
    "#price: looks within the range of possibility \n",
    "vehicle_df.price.describe()\n",
    "\n",
    "# year is within a sensible range (2023-2025)\n",
    "vehicle_df.year.describe()\n",
    "\n",
    "# Fuel: All words are unique and are types of fuel\n",
    "vehicle_df.fuel.unique()\n",
    "\n",
    "#Range of vehicle_id (to compare with purchase_df)\n",
    "vehicle_df.vehicle_id.describe()\n",
    "vehicle_df.vehicle_id.nunique()\n",
    "vehicle_uniq_vehicle_id = vehicle_df.vehicle_id.unique()\n",
    "\n",
    "\n"
   ]
  },
  {
   "cell_type": "markdown",
   "metadata": {},
   "source": [
    "##### Step 2b: \n",
    "\n",
    "Clean purchase data"
   ]
  },
  {
   "cell_type": "code",
   "execution_count": 209,
   "metadata": {},
   "outputs": [
    {
     "name": "stdout",
     "output_type": "stream",
     "text": [
      "<class 'pandas.core.frame.DataFrame'>\n",
      "RangeIndex: 2000000 entries, 0 to 1999999\n",
      "Data columns (total 12 columns):\n",
      " #   Column             Dtype         \n",
      "---  ------             -----         \n",
      " 0   customer_id        int64         \n",
      " 1   customer_uuid      object        \n",
      " 2   purchase_date      datetime64[ns]\n",
      " 3   rrp_discount       float64       \n",
      " 4   vehicle_id         int64         \n",
      " 5   city               object        \n",
      " 6   lat                float64       \n",
      " 7   lng                float64       \n",
      " 8   approx_population  int64         \n",
      " 9   purchase_day       int32         \n",
      " 10  purchase_month     int32         \n",
      " 11  purchase_year      int32         \n",
      "dtypes: datetime64[ns](1), float64(3), int32(3), int64(3), object(2)\n",
      "memory usage: 160.2+ MB\n"
     ]
    },
    {
     "data": {
      "text/plain": [
       "978"
      ]
     },
     "execution_count": 209,
     "metadata": {},
     "output_type": "execute_result"
    }
   ],
   "source": [
    "purchase_df.head()\n",
    "purchase_df.tail()\n",
    "purchase_df.describe()\n",
    "\n",
    "# Anything obviously wrong with entries with missing data? There's no missing data!\n",
    "purchase_df[purchase_df.isnull().any(axis=1)]\n",
    "\n",
    "\n",
    "#All customer_id unique? Yes\n",
    "purchase_df.customer_id.nunique()\n",
    "\n",
    "#All customer_uuid entries unique? Yes\n",
    "purchase_df.customer_uuid.nunique()\n",
    "#Quick check for any unexpected entries in the customer_uuid\n",
    "purchase_df[~purchase_df[\"customer_uuid\"].str.contains(\"-\")]\n",
    "purchase_df[\"customer_uuid\"].str.findall(r'[A-Z]')\n",
    "\n",
    "\n",
    "# Split purchase date into year, month, day\n",
    "purchase_df.purchase_date = pd.to_datetime(purchase_df[\"purchase_date\"])\n",
    "purchase_df['purchase_day'] = purchase_df['purchase_date'].dt.day\n",
    "purchase_df['purchase_month'] = purchase_df['purchase_date'].dt.month\n",
    "purchase_df['purchase_year'] = purchase_df['purchase_date'].dt.year\n",
    "purchase_df.head()\n",
    "\n",
    "\n",
    "#rrp_discount: correct format and within sensible range? Yes. Range 0-0.18\n",
    "purchase_df.rrp_discount.describe()\n",
    "purchase_df.rrp_discount.unique()\n",
    "\n",
    "#vehicle_id within sensible range? Range looks good\n",
    "purchase_df.vehicle_id.describe()\n",
    "purchase_df.vehicle_id.nunique()\n",
    "\n",
    "#Do we have the same set of uniqe vehicle_ids in both dataframes? Yes. So we can use this as the key column \n",
    "purchase_uniq_vehicle_id = purchase_df.vehicle_id.unique()\n",
    "list(set(purchase_uniq_vehicle_id)-set(vehicle_uniq_vehicle_id))\n",
    "\n",
    "\n",
    "#Summary of city names. Anything weird? No. All are existing cities and there are no variations in spelling\n",
    "purchase_df.city.unique()\n",
    "purchase_df.city.nunique()\n",
    "\n",
    "#summary of approx_population. Within sensible range, and the same number of unique values as we have cities. \n",
    "purchase_df.approx_population.describe()\n",
    "purchase_df.approx_population.nunique()\n",
    "\n",
    "#Format of all columns\n",
    "purchase_df.info()\n"
   ]
  }
 ],
 "metadata": {
  "kernelspec": {
   "display_name": "Python 3",
   "language": "python",
   "name": "python3"
  },
  "language_info": {
   "codemirror_mode": {
    "name": "ipython",
    "version": 3
   },
   "file_extension": ".py",
   "mimetype": "text/x-python",
   "name": "python",
   "nbconvert_exporter": "python",
   "pygments_lexer": "ipython3",
   "version": "3.9.5"
  }
 },
 "nbformat": 4,
 "nbformat_minor": 2
}
