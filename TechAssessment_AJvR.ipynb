{
 "cells": [
  {
   "cell_type": "markdown",
   "metadata": {},
   "source": [
    "## Lightfoot Tech assessment. \n",
    "\n",
    "##### I'm presenting analyses in ipynb as this is a narrative analysis to be read by others. \n",
    "\n",
    "##### Step 1:\n",
    "##### Explore the data provided in python"
   ]
  },
  {
   "cell_type": "code",
   "execution_count": null,
   "metadata": {},
   "outputs": [],
   "source": [
    "import pandas as pd \n",
    "\n"
   ]
  }
 ],
 "metadata": {
  "language_info": {
   "name": "python"
  }
 },
 "nbformat": 4,
 "nbformat_minor": 2
}
